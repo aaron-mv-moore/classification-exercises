{
 "cells": [
  {
   "cell_type": "code",
   "execution_count": 224,
   "id": "bbd60c10",
   "metadata": {},
   "outputs": [],
   "source": [
    "import pandas as pd\n",
    "from sklearn.metrics import confusion_matrix, precision_score, classification_report"
   ]
  },
  {
   "cell_type": "markdown",
   "id": "58a82b81",
   "metadata": {},
   "source": [
    "Given the following confusion matrix, evaluate (by hand) the model's performance.\n",
    "\n",
    "\n",
    "|               | pred dog   | pred cat   |\n",
    "|:------------  |-----------:|-----------:|\n",
    "| actual dog    |         46 |         7  |\n",
    "| actual cat    |         13 |         34 |\n",
    "\n",
    "\n",
    "actual dog is positive\n",
    "actual cat is negative\n",
    "- In the context of this problem, what is a false positive?\n",
    "    - pred dog actual cat\n",
    "- In the context of this problem, what is a false negative?\n",
    "    - pred cat actual dog\n",
    "- How would you describe this model?\n",
    "    - I'm not sure lol"
   ]
  },
  {
   "cell_type": "code",
   "execution_count": 139,
   "id": "35a2e902",
   "metadata": {},
   "outputs": [],
   "source": [
    "tp = 46\n",
    "fp = 13\n",
    "tn = 34\n",
    "fn = 7"
   ]
  },
  {
   "cell_type": "code",
   "execution_count": 146,
   "id": "b4137797",
   "metadata": {},
   "outputs": [
    {
     "data": {
      "text/plain": [
       "0.8"
      ]
     },
     "execution_count": 146,
     "metadata": {},
     "output_type": "execute_result"
    }
   ],
   "source": [
    "accuracy = (tp + tn) / (tp + tn + fp + fn)\n",
    "accuracy"
   ]
  },
  {
   "cell_type": "code",
   "execution_count": 145,
   "id": "4db492f4",
   "metadata": {},
   "outputs": [
    {
     "data": {
      "text/plain": [
       "0.8679245283018868"
      ]
     },
     "execution_count": 145,
     "metadata": {},
     "output_type": "execute_result"
    }
   ],
   "source": [
    "recall = tp/(tp + fn)\n",
    "recall"
   ]
  },
  {
   "cell_type": "code",
   "execution_count": 144,
   "id": "ebdc239b",
   "metadata": {},
   "outputs": [
    {
     "data": {
      "text/plain": [
       "0.7796610169491526"
      ]
     },
     "execution_count": 144,
     "metadata": {},
     "output_type": "execute_result"
    }
   ],
   "source": [
    "precision = tp / (tp+fp)\n",
    "precision"
   ]
  },
  {
   "cell_type": "code",
   "execution_count": null,
   "id": "ad178387",
   "metadata": {},
   "outputs": [],
   "source": []
  },
  {
   "cell_type": "markdown",
   "id": "1fa76535",
   "metadata": {},
   "source": [
    "3. Use the predictions dataset and pandas to help answer the following questions:\n",
    "\n",
    "- An internal team wants to investigate the cause of the manufacturing defects. They tell you that they want to identify as many of the ducks that have a defect as possible. Which evaluation metric would be appropriate here? Which model would be the best fit for this use case?\n",
    "\n",
    "- Recently several stories in the local news have come out highlighting customers who received a rubber duck with a defect, and portraying C3 in a bad light. The PR team has decided to launch a program that gives customers with a defective duck a vacation to Hawaii. They need you to predict which ducks will have defects, but tell you the really don't want to accidentally give out a vacation package when the duck really doesn't have a defect. Which evaluation metric would be appropriate here? Which model would be the best fit for this use case?"
   ]
  },
  {
   "cell_type": "code",
   "execution_count": 147,
   "id": "b68a0c0f",
   "metadata": {},
   "outputs": [],
   "source": [
    "df = pd.read_csv('/Users/aaron/codeup-data-science/classification-exercises/c3.csv')"
   ]
  },
  {
   "cell_type": "code",
   "execution_count": 12,
   "id": "2f6a2926",
   "metadata": {
    "scrolled": true
   },
   "outputs": [
    {
     "data": {
      "text/html": [
       "<div>\n",
       "<style scoped>\n",
       "    .dataframe tbody tr th:only-of-type {\n",
       "        vertical-align: middle;\n",
       "    }\n",
       "\n",
       "    .dataframe tbody tr th {\n",
       "        vertical-align: top;\n",
       "    }\n",
       "\n",
       "    .dataframe thead th {\n",
       "        text-align: right;\n",
       "    }\n",
       "</style>\n",
       "<table border=\"1\" class=\"dataframe\">\n",
       "  <thead>\n",
       "    <tr style=\"text-align: right;\">\n",
       "      <th></th>\n",
       "      <th>actual</th>\n",
       "      <th>model1</th>\n",
       "      <th>model2</th>\n",
       "      <th>model3</th>\n",
       "    </tr>\n",
       "  </thead>\n",
       "  <tbody>\n",
       "    <tr>\n",
       "      <th>3</th>\n",
       "      <td>No Defect</td>\n",
       "      <td>Defect</td>\n",
       "      <td>Defect</td>\n",
       "      <td>Defect</td>\n",
       "    </tr>\n",
       "    <tr>\n",
       "      <th>190</th>\n",
       "      <td>No Defect</td>\n",
       "      <td>No Defect</td>\n",
       "      <td>No Defect</td>\n",
       "      <td>No Defect</td>\n",
       "    </tr>\n",
       "    <tr>\n",
       "      <th>34</th>\n",
       "      <td>No Defect</td>\n",
       "      <td>No Defect</td>\n",
       "      <td>Defect</td>\n",
       "      <td>No Defect</td>\n",
       "    </tr>\n",
       "    <tr>\n",
       "      <th>166</th>\n",
       "      <td>No Defect</td>\n",
       "      <td>No Defect</td>\n",
       "      <td>No Defect</td>\n",
       "      <td>No Defect</td>\n",
       "    </tr>\n",
       "    <tr>\n",
       "      <th>177</th>\n",
       "      <td>No Defect</td>\n",
       "      <td>No Defect</td>\n",
       "      <td>Defect</td>\n",
       "      <td>Defect</td>\n",
       "    </tr>\n",
       "    <tr>\n",
       "      <th>178</th>\n",
       "      <td>No Defect</td>\n",
       "      <td>No Defect</td>\n",
       "      <td>No Defect</td>\n",
       "      <td>Defect</td>\n",
       "    </tr>\n",
       "    <tr>\n",
       "      <th>160</th>\n",
       "      <td>No Defect</td>\n",
       "      <td>No Defect</td>\n",
       "      <td>No Defect</td>\n",
       "      <td>No Defect</td>\n",
       "    </tr>\n",
       "    <tr>\n",
       "      <th>21</th>\n",
       "      <td>No Defect</td>\n",
       "      <td>No Defect</td>\n",
       "      <td>Defect</td>\n",
       "      <td>No Defect</td>\n",
       "    </tr>\n",
       "    <tr>\n",
       "      <th>0</th>\n",
       "      <td>No Defect</td>\n",
       "      <td>No Defect</td>\n",
       "      <td>Defect</td>\n",
       "      <td>No Defect</td>\n",
       "    </tr>\n",
       "    <tr>\n",
       "      <th>43</th>\n",
       "      <td>No Defect</td>\n",
       "      <td>No Defect</td>\n",
       "      <td>No Defect</td>\n",
       "      <td>No Defect</td>\n",
       "    </tr>\n",
       "  </tbody>\n",
       "</table>\n",
       "</div>"
      ],
      "text/plain": [
       "        actual     model1     model2     model3\n",
       "3    No Defect     Defect     Defect     Defect\n",
       "190  No Defect  No Defect  No Defect  No Defect\n",
       "34   No Defect  No Defect     Defect  No Defect\n",
       "166  No Defect  No Defect  No Defect  No Defect\n",
       "177  No Defect  No Defect     Defect     Defect\n",
       "178  No Defect  No Defect  No Defect     Defect\n",
       "160  No Defect  No Defect  No Defect  No Defect\n",
       "21   No Defect  No Defect     Defect  No Defect\n",
       "0    No Defect  No Defect     Defect  No Defect\n",
       "43   No Defect  No Defect  No Defect  No Defect"
      ]
     },
     "execution_count": 12,
     "metadata": {},
     "output_type": "execute_result"
    }
   ],
   "source": [
    "df.sample(10)"
   ]
  },
  {
   "cell_type": "markdown",
   "id": "1bc33874",
   "metadata": {},
   "source": [
    "> - identify as many of the ducks that have a defect as possible.\n",
    "    - We want to identify the defects, I would make the defect positive in order to adequately measure how accurate and precise the system is at predicting the defects\n",
    ">- Which evaluation metric would be appropriate here?\n",
    "    - I think recall is the best one for this case\n",
    ">- Which model would be the best fit for this use case?\n",
    "    - Model 3 is the best fit for this use case"
   ]
  },
  {
   "cell_type": "code",
   "execution_count": 153,
   "id": "61c1f36c",
   "metadata": {},
   "outputs": [
    {
     "data": {
      "text/html": [
       "<div>\n",
       "<style scoped>\n",
       "    .dataframe tbody tr th:only-of-type {\n",
       "        vertical-align: middle;\n",
       "    }\n",
       "\n",
       "    .dataframe tbody tr th {\n",
       "        vertical-align: top;\n",
       "    }\n",
       "\n",
       "    .dataframe thead th {\n",
       "        text-align: right;\n",
       "    }\n",
       "</style>\n",
       "<table border=\"1\" class=\"dataframe\">\n",
       "  <thead>\n",
       "    <tr style=\"text-align: right;\">\n",
       "      <th></th>\n",
       "      <th>actual</th>\n",
       "      <th>model1</th>\n",
       "      <th>model2</th>\n",
       "      <th>model3</th>\n",
       "    </tr>\n",
       "  </thead>\n",
       "  <tbody>\n",
       "    <tr>\n",
       "      <th>13</th>\n",
       "      <td>Defect</td>\n",
       "      <td>No Defect</td>\n",
       "      <td>Defect</td>\n",
       "      <td>Defect</td>\n",
       "    </tr>\n",
       "    <tr>\n",
       "      <th>30</th>\n",
       "      <td>Defect</td>\n",
       "      <td>Defect</td>\n",
       "      <td>No Defect</td>\n",
       "      <td>Defect</td>\n",
       "    </tr>\n",
       "    <tr>\n",
       "      <th>65</th>\n",
       "      <td>Defect</td>\n",
       "      <td>Defect</td>\n",
       "      <td>Defect</td>\n",
       "      <td>Defect</td>\n",
       "    </tr>\n",
       "    <tr>\n",
       "      <th>70</th>\n",
       "      <td>Defect</td>\n",
       "      <td>Defect</td>\n",
       "      <td>Defect</td>\n",
       "      <td>Defect</td>\n",
       "    </tr>\n",
       "    <tr>\n",
       "      <th>74</th>\n",
       "      <td>Defect</td>\n",
       "      <td>No Defect</td>\n",
       "      <td>No Defect</td>\n",
       "      <td>Defect</td>\n",
       "    </tr>\n",
       "  </tbody>\n",
       "</table>\n",
       "</div>"
      ],
      "text/plain": [
       "    actual     model1     model2  model3\n",
       "13  Defect  No Defect     Defect  Defect\n",
       "30  Defect     Defect  No Defect  Defect\n",
       "65  Defect     Defect     Defect  Defect\n",
       "70  Defect     Defect     Defect  Defect\n",
       "74  Defect  No Defect  No Defect  Defect"
      ]
     },
     "execution_count": 153,
     "metadata": {},
     "output_type": "execute_result"
    }
   ],
   "source": [
    "# For recall we are only concerned wiht the positive actual values\n",
    "df_actual_positive = df[df.actual == 'Defect']\n",
    "df_actual_positive.head()"
   ]
  },
  {
   "cell_type": "code",
   "execution_count": 157,
   "id": "7892dd84",
   "metadata": {},
   "outputs": [],
   "source": [
    "# Model 1: compare how many time we were correct\n",
    "model1_recall = (df_actual_positive.model1 == df_actual_positive.actual).mean()"
   ]
  },
  {
   "cell_type": "code",
   "execution_count": 159,
   "id": "457af1e0",
   "metadata": {},
   "outputs": [],
   "source": [
    "# model 2: \n",
    "model2_recall = (df_actual_positive.model2 == df_actual_positive.actual).mean()"
   ]
  },
  {
   "cell_type": "code",
   "execution_count": 161,
   "id": "2adde377",
   "metadata": {},
   "outputs": [],
   "source": [
    "# model 3\n",
    "model3_recall = (df_actual_positive.model3 == df_actual_positive.actual).mean()"
   ]
  },
  {
   "cell_type": "code",
   "execution_count": 162,
   "id": "fb919d35",
   "metadata": {},
   "outputs": [
    {
     "data": {
      "text/plain": [
       "(0.5, 0.5625, 0.8125)"
      ]
     },
     "execution_count": 162,
     "metadata": {},
     "output_type": "execute_result"
    }
   ],
   "source": [
    "model1_recall, model2_recall, model3_recall"
   ]
  },
  {
   "cell_type": "code",
   "execution_count": 22,
   "id": "ae474d35",
   "metadata": {},
   "outputs": [
    {
     "data": {
      "text/plain": [
       "(No Defect    184\n",
       " Defect        16\n",
       " Name: actual, dtype: int64,\n",
       " No Defect    190\n",
       " Defect        10\n",
       " Name: model1, dtype: int64)"
      ]
     },
     "execution_count": 22,
     "metadata": {},
     "output_type": "execute_result"
    }
   ],
   "source": [
    "# 16 ducks have defects, which im assuming \n",
    "df.actual.value_counts(), df.model1.value_counts()"
   ]
  },
  {
   "cell_type": "markdown",
   "id": "66da5cf9",
   "metadata": {},
   "source": [
    "> ### I will not use confusion models in the future becasue it was not explained"
   ]
  },
  {
   "cell_type": "code",
   "execution_count": 168,
   "id": "45382245",
   "metadata": {},
   "outputs": [
    {
     "data": {
      "text/plain": [
       "array([[  8,   8],\n",
       "       [  2, 182]])"
      ]
     },
     "execution_count": 168,
     "metadata": {},
     "output_type": "execute_result"
    }
   ],
   "source": [
    "# checking model 1\n",
    "model1_confusion = confusion_matrix(df.actual, df.model1)\n",
    "model1_confusion"
   ]
  },
  {
   "cell_type": "code",
   "execution_count": null,
   "id": "fa94ebe5",
   "metadata": {},
   "outputs": [],
   "source": [
    "# TP/(TP + FN)\n",
    "model1_recall = model1_confusion[0,0] / (model1_confusion[0,0] + model1_confusion[0,1])\n",
    "\n",
    "# printing the resutls in percent form\n",
    "print(f'Model 1 Recall: {model1_recall:.2%}')"
   ]
  },
  {
   "cell_type": "code",
   "execution_count": null,
   "id": "3b1cc534",
   "metadata": {},
   "outputs": [],
   "source": [
    "# Checking model 2 \n",
    "model2_confusion = confusion_matrix(df.actual, df.model2)\n",
    "model2_confusion"
   ]
  },
  {
   "cell_type": "code",
   "execution_count": null,
   "id": "b3d14dae",
   "metadata": {},
   "outputs": [],
   "source": [
    "# recall = TP/(TP + FN)\n",
    "model2_recall = model2_confusion[0,0] / (model2_confusion[1,1] + model2_confusion[0,1])\n",
    "\n",
    "# printing results\n",
    "print(f'Model 2 Recall: {model2_recall:.2%}')"
   ]
  },
  {
   "cell_type": "code",
   "execution_count": null,
   "id": "8b370574",
   "metadata": {},
   "outputs": [],
   "source": [
    "(df.actual == df.model3).value_counts()"
   ]
  },
  {
   "cell_type": "code",
   "execution_count": null,
   "id": "f3b43e48",
   "metadata": {},
   "outputs": [],
   "source": [
    "# Checking model 3 \n",
    "model3_confusion = confusion_matrix(df.actual, df.model3,\n",
    "                labels = ('No Defect', 'Defect'))"
   ]
  },
  {
   "cell_type": "code",
   "execution_count": null,
   "id": "c5fb3c76",
   "metadata": {},
   "outputs": [],
   "source": [
    "# Model 3 Recall\n",
    "model3_recall = model3_confusion[1,1]/(model3_confusion[1,1] + model3_confusion[0,1])\n",
    "\n",
    "# Printing model 3's recall\n",
    "print(f'Model 3 Recall: {model3_recall:.2%}')"
   ]
  },
  {
   "cell_type": "markdown",
   "id": "54663109",
   "metadata": {},
   "source": [
    ">Recently several stories in the local news have come out highlighting customers who received a rubber duck with a defect, and portraying C3 in a bad light. \n",
    ">The PR team has decided to launch a program that gives customers with a defective duck a vacation to Hawaii. They need you to predict which ducks will have defects, but tell you the really don't want to accidentally give out a vacation package when the duck really doesn't have a defect. \n",
    ">- Which evaluation metric would be appropriate here? \n",
    "    - I think the False positive rate would be the best becasue we want the fewest amount of false positives as possible (False positive would be to incorrectly determine there is a defect and also incorrectly giving out a free trip to hawaii)\n",
    "    - Precision is used when trying to determine how often a positive is used, tyhe false positive is costly so we want to have a precise understanding\n",
    ">- Which model would be the best fit for this use case?\n",
    "    - Model 1 is the best for this use case\n"
   ]
  },
  {
   "cell_type": "code",
   "execution_count": 182,
   "id": "9cf73f37",
   "metadata": {},
   "outputs": [],
   "source": [
    "# creating a prediction thing by hand instead of using the confusion matrix becasue the confusion matrix is indeed confusing becae the explaination for it was not clear\n",
    "df_model1_positive = df[df.model1 == 'Defect']\n",
    "model1_precision = (df_model1_positive.model1 == df_model1_positive.actual).mean()"
   ]
  },
  {
   "cell_type": "code",
   "execution_count": 188,
   "id": "9b55d783",
   "metadata": {},
   "outputs": [],
   "source": [
    "df_model2_positive = df[df.model2 == 'Defect']\n",
    "model2_precision = (df_model2_positive.model2 == df_model2_positive.actual).mean()"
   ]
  },
  {
   "cell_type": "code",
   "execution_count": 197,
   "id": "19f59356",
   "metadata": {},
   "outputs": [],
   "source": [
    "df_model3_positive = df[df.model3 == 'Defect']\n",
    "model3_precision = (df_model3_positive.model3 == df_model3_positive.actual).mean()"
   ]
  },
  {
   "cell_type": "code",
   "execution_count": null,
   "id": "58f38b7c",
   "metadata": {},
   "outputs": [],
   "source": []
  },
  {
   "cell_type": "code",
   "execution_count": 59,
   "id": "e76cc932",
   "metadata": {},
   "outputs": [
    {
     "data": {
      "text/plain": [
       "actual     model1   \n",
       "No Defect  No Defect    182\n",
       "Defect     Defect         8\n",
       "dtype: int64"
      ]
     },
     "execution_count": 59,
     "metadata": {},
     "output_type": "execute_result"
    }
   ],
   "source": [
    "# looking at the number of True Positives(Defect) and True Neegatives(No Defects)\n",
    "df[df.actual == df.model1].iloc[:,:2].value_counts()"
   ]
  },
  {
   "cell_type": "code",
   "execution_count": 62,
   "id": "c7c00e8e",
   "metadata": {},
   "outputs": [
    {
     "data": {
      "text/html": [
       "<div>\n",
       "<style scoped>\n",
       "    .dataframe tbody tr th:only-of-type {\n",
       "        vertical-align: middle;\n",
       "    }\n",
       "\n",
       "    .dataframe tbody tr th {\n",
       "        vertical-align: top;\n",
       "    }\n",
       "\n",
       "    .dataframe thead th {\n",
       "        text-align: right;\n",
       "    }\n",
       "</style>\n",
       "<table border=\"1\" class=\"dataframe\">\n",
       "  <thead>\n",
       "    <tr style=\"text-align: right;\">\n",
       "      <th>model1</th>\n",
       "      <th>Defect</th>\n",
       "      <th>No Defect</th>\n",
       "    </tr>\n",
       "    <tr>\n",
       "      <th>actual</th>\n",
       "      <th></th>\n",
       "      <th></th>\n",
       "    </tr>\n",
       "  </thead>\n",
       "  <tbody>\n",
       "    <tr>\n",
       "      <th>Defect</th>\n",
       "      <td>8</td>\n",
       "      <td>8</td>\n",
       "    </tr>\n",
       "    <tr>\n",
       "      <th>No Defect</th>\n",
       "      <td>2</td>\n",
       "      <td>182</td>\n",
       "    </tr>\n",
       "  </tbody>\n",
       "</table>\n",
       "</div>"
      ],
      "text/plain": [
       "model1     Defect  No Defect\n",
       "actual                      \n",
       "Defect          8          8\n",
       "No Defect       2        182"
      ]
     },
     "execution_count": 62,
     "metadata": {},
     "output_type": "execute_result"
    }
   ],
   "source": [
    "# keeping the crosstab open for a sanity check on the numbers in the confusion matric\n",
    "pd.crosstab(df.actual, df.model1)"
   ]
  },
  {
   "cell_type": "code",
   "execution_count": 58,
   "id": "4703a6a0",
   "metadata": {},
   "outputs": [
    {
     "data": {
      "text/plain": [
       "(True     111\n",
       " False     89\n",
       " dtype: int64,\n",
       " array([[182,   2],\n",
       "        [  8,   8]]))"
      ]
     },
     "execution_count": 58,
     "metadata": {},
     "output_type": "execute_result"
    }
   ],
   "source": [
    "# checking the value coutns and the conduuion matrix for another sanity check\n",
    "(df.actual == df.model3).value_counts(), model1_confusion"
   ]
  },
  {
   "cell_type": "code",
   "execution_count": 64,
   "id": "93520638",
   "metadata": {},
   "outputs": [
    {
     "name": "stdout",
     "output_type": "stream",
     "text": [
      "Model 1 Precision: 80.00%\n"
     ]
    }
   ],
   "source": [
    "# determining the precision of the first model \n",
    "model1_precision = model1_confusion[1,1]/(model1_confusion[1,1] + model1_confusion[0,1])\n",
    "\n",
    "print(f'Model 1 Precision: {model1_precision:.2%}')"
   ]
  },
  {
   "cell_type": "code",
   "execution_count": 66,
   "id": "c3a145f8",
   "metadata": {},
   "outputs": [
    {
     "data": {
      "text/html": [
       "<div>\n",
       "<style scoped>\n",
       "    .dataframe tbody tr th:only-of-type {\n",
       "        vertical-align: middle;\n",
       "    }\n",
       "\n",
       "    .dataframe tbody tr th {\n",
       "        vertical-align: top;\n",
       "    }\n",
       "\n",
       "    .dataframe thead th {\n",
       "        text-align: right;\n",
       "    }\n",
       "</style>\n",
       "<table border=\"1\" class=\"dataframe\">\n",
       "  <thead>\n",
       "    <tr style=\"text-align: right;\">\n",
       "      <th>model2</th>\n",
       "      <th>Defect</th>\n",
       "      <th>No Defect</th>\n",
       "    </tr>\n",
       "    <tr>\n",
       "      <th>actual</th>\n",
       "      <th></th>\n",
       "      <th></th>\n",
       "    </tr>\n",
       "  </thead>\n",
       "  <tbody>\n",
       "    <tr>\n",
       "      <th>Defect</th>\n",
       "      <td>9</td>\n",
       "      <td>7</td>\n",
       "    </tr>\n",
       "    <tr>\n",
       "      <th>No Defect</th>\n",
       "      <td>81</td>\n",
       "      <td>103</td>\n",
       "    </tr>\n",
       "  </tbody>\n",
       "</table>\n",
       "</div>"
      ],
      "text/plain": [
       "model2     Defect  No Defect\n",
       "actual                      \n",
       "Defect          9          7\n",
       "No Defect      81        103"
      ]
     },
     "execution_count": 66,
     "metadata": {},
     "output_type": "execute_result"
    }
   ],
   "source": [
    "# keeping the crosstab open for a sanity check on the numbers in the confusion matric\n",
    "pd.crosstab(df.actual, df.model2)"
   ]
  },
  {
   "cell_type": "code",
   "execution_count": 71,
   "id": "d91e90cf",
   "metadata": {},
   "outputs": [
    {
     "name": "stdout",
     "output_type": "stream",
     "text": [
      "Model 2 Precision: 10.00%\n"
     ]
    }
   ],
   "source": [
    "# determining the precision of the second model\n",
    "model2_precision = model2_confusion[1,1]/(model2_confusion[1,1] + model2_confusion[0,1])\n",
    "\n",
    "print(f'Model 2 Precision: {model2_precision:.2%}')"
   ]
  },
  {
   "cell_type": "code",
   "execution_count": 73,
   "id": "ff6923d8",
   "metadata": {},
   "outputs": [
    {
     "data": {
      "text/html": [
       "<div>\n",
       "<style scoped>\n",
       "    .dataframe tbody tr th:only-of-type {\n",
       "        vertical-align: middle;\n",
       "    }\n",
       "\n",
       "    .dataframe tbody tr th {\n",
       "        vertical-align: top;\n",
       "    }\n",
       "\n",
       "    .dataframe thead th {\n",
       "        text-align: right;\n",
       "    }\n",
       "</style>\n",
       "<table border=\"1\" class=\"dataframe\">\n",
       "  <thead>\n",
       "    <tr style=\"text-align: right;\">\n",
       "      <th>model3</th>\n",
       "      <th>Defect</th>\n",
       "      <th>No Defect</th>\n",
       "    </tr>\n",
       "    <tr>\n",
       "      <th>actual</th>\n",
       "      <th></th>\n",
       "      <th></th>\n",
       "    </tr>\n",
       "  </thead>\n",
       "  <tbody>\n",
       "    <tr>\n",
       "      <th>Defect</th>\n",
       "      <td>13</td>\n",
       "      <td>3</td>\n",
       "    </tr>\n",
       "    <tr>\n",
       "      <th>No Defect</th>\n",
       "      <td>86</td>\n",
       "      <td>98</td>\n",
       "    </tr>\n",
       "  </tbody>\n",
       "</table>\n",
       "</div>"
      ],
      "text/plain": [
       "model3     Defect  No Defect\n",
       "actual                      \n",
       "Defect         13          3\n",
       "No Defect      86         98"
      ]
     },
     "execution_count": 73,
     "metadata": {},
     "output_type": "execute_result"
    }
   ],
   "source": [
    "pd.crosstab(df.actual, df.model3)"
   ]
  },
  {
   "cell_type": "markdown",
   "id": "71e4f964",
   "metadata": {},
   "source": [
    "You are working as a data scientist for Gives You Paws ™, a subscription based service that shows you cute pictures of dogs or cats (or both for an additional fee).\n",
    "\n",
    "At Gives You Paws, anyone can upload pictures of their cats or dogs. The photos are then put through a two step process. First an automated algorithm tags pictures as either a cat or a dog (Phase I). Next, the photos that have been initially identified are put through another round of review, possibly with some human oversight, before being presented to the users (Phase II).\n",
    "\n",
    "Several models have already been developed with the data, and you can find their results here.\n",
    "\n",
    "Given this dataset, use pandas to create a baseline model (i.e. a model that just predicts the most common class) and answer the following questions:\n",
    "\n",
    "- In terms of accuracy, how do the various models compare to the baseline model? Are any of the models better than the baseline?\n",
    "- Suppose you are working on a team that solely deals with dog pictures. Which of these models would you recommend?\n",
    "- Suppose you are working on a team that solely deals with cat pictures. Which of these models would you recommend?"
   ]
  },
  {
   "cell_type": "code",
   "execution_count": 217,
   "id": "8e6ac250",
   "metadata": {},
   "outputs": [],
   "source": [
    "df = pd.read_csv('/Users/aaron/Downloads/gives_you_paws.csv')"
   ]
  },
  {
   "cell_type": "code",
   "execution_count": 210,
   "id": "ae9a6e97",
   "metadata": {},
   "outputs": [
    {
     "data": {
      "text/html": [
       "<div>\n",
       "<style scoped>\n",
       "    .dataframe tbody tr th:only-of-type {\n",
       "        vertical-align: middle;\n",
       "    }\n",
       "\n",
       "    .dataframe tbody tr th {\n",
       "        vertical-align: top;\n",
       "    }\n",
       "\n",
       "    .dataframe thead th {\n",
       "        text-align: right;\n",
       "    }\n",
       "</style>\n",
       "<table border=\"1\" class=\"dataframe\">\n",
       "  <thead>\n",
       "    <tr style=\"text-align: right;\">\n",
       "      <th></th>\n",
       "      <th>actual</th>\n",
       "      <th>model1</th>\n",
       "      <th>model2</th>\n",
       "      <th>model3</th>\n",
       "      <th>model4</th>\n",
       "    </tr>\n",
       "  </thead>\n",
       "  <tbody>\n",
       "    <tr>\n",
       "      <th>0</th>\n",
       "      <td>cat</td>\n",
       "      <td>cat</td>\n",
       "      <td>dog</td>\n",
       "      <td>cat</td>\n",
       "      <td>dog</td>\n",
       "    </tr>\n",
       "    <tr>\n",
       "      <th>1</th>\n",
       "      <td>dog</td>\n",
       "      <td>dog</td>\n",
       "      <td>cat</td>\n",
       "      <td>cat</td>\n",
       "      <td>dog</td>\n",
       "    </tr>\n",
       "    <tr>\n",
       "      <th>2</th>\n",
       "      <td>dog</td>\n",
       "      <td>cat</td>\n",
       "      <td>cat</td>\n",
       "      <td>cat</td>\n",
       "      <td>dog</td>\n",
       "    </tr>\n",
       "    <tr>\n",
       "      <th>3</th>\n",
       "      <td>dog</td>\n",
       "      <td>dog</td>\n",
       "      <td>dog</td>\n",
       "      <td>cat</td>\n",
       "      <td>dog</td>\n",
       "    </tr>\n",
       "    <tr>\n",
       "      <th>4</th>\n",
       "      <td>cat</td>\n",
       "      <td>cat</td>\n",
       "      <td>cat</td>\n",
       "      <td>dog</td>\n",
       "      <td>dog</td>\n",
       "    </tr>\n",
       "  </tbody>\n",
       "</table>\n",
       "</div>"
      ],
      "text/plain": [
       "  actual model1 model2 model3 model4\n",
       "0    cat    cat    dog    cat    dog\n",
       "1    dog    dog    cat    cat    dog\n",
       "2    dog    cat    cat    cat    dog\n",
       "3    dog    dog    dog    cat    dog\n",
       "4    cat    cat    cat    dog    dog"
      ]
     },
     "execution_count": 210,
     "metadata": {},
     "output_type": "execute_result"
    }
   ],
   "source": [
    "# checking the df\n",
    "df.head()"
   ]
  },
  {
   "cell_type": "code",
   "execution_count": 79,
   "id": "e0bd20e9",
   "metadata": {},
   "outputs": [
    {
     "data": {
      "text/plain": [
       "dog    3254\n",
       "cat    1746\n",
       "Name: actual, dtype: int64"
      ]
     },
     "execution_count": 79,
     "metadata": {},
     "output_type": "execute_result"
    }
   ],
   "source": [
    "# determining the most common\n",
    "df.actual.value_counts()"
   ]
  },
  {
   "cell_type": "code",
   "execution_count": 219,
   "id": "712e9fe2",
   "metadata": {},
   "outputs": [],
   "source": [
    "# creating baseline model with most common as a new columns in the df\n",
    "df['baseline'] = 'dog'"
   ]
  },
  {
   "cell_type": "code",
   "execution_count": 206,
   "id": "97fea694",
   "metadata": {},
   "outputs": [],
   "source": [
    "# Determines accuracy of each model and compare each to the baseline\n",
    "baseline_accuracy = (df.actual == df.baseline).mean()\n",
    "model1_accuracy = (df.actual == df.model1).mean()\n",
    "model2_accuracy = (df.actual == df.model2).mean()\n",
    "model3_accuracy = (df.actual == df.model3).mean()\n",
    "model4_accuracy = (df.actual == df.model4).mean()"
   ]
  },
  {
   "cell_type": "code",
   "execution_count": 207,
   "id": "e0de7634",
   "metadata": {},
   "outputs": [
    {
     "data": {
      "text/plain": [
       "(0.6508, 0.8074, 0.6304, 0.5096, 0.7426)"
      ]
     },
     "execution_count": 207,
     "metadata": {},
     "output_type": "execute_result"
    }
   ],
   "source": [
    "# model 1 and model 4 has a higher accuracy tham the aseline, but the baseline has a higher accutracy than all other models\n",
    "baseline_accuracy, model1_accuracy, model2_accuracy, model3_accuracy, model4_accuracy"
   ]
  },
  {
   "cell_type": "code",
   "execution_count": 220,
   "id": "03785609",
   "metadata": {},
   "outputs": [],
   "source": [
    "# only dog pics precison\n",
    "subset = df[df.model1 == 'dog']\n",
    "model1_precision = (subset.model1 == subset.actual).mean()\n",
    "\n",
    "subset = df[df.model2 == 'dog']\n",
    "model2_precision = (subset.model2 == subset.actual).mean()\n",
    "\n",
    "subset = df[df.model3 == 'dog']\n",
    "model3_precision = (subset.model3 == subset.actual).mean()\n",
    "\n",
    "subset = df[df.model4 == 'dog']\n",
    "model4_precision = (subset.model4 == subset.actual).mean()\n",
    "\n",
    "subset = df[df.baseline == 'dog']\n",
    "baseline_precision = (subset.baseline == subset.actual).mean()"
   ]
  },
  {
   "cell_type": "code",
   "execution_count": 221,
   "id": "a42ab4e4",
   "metadata": {},
   "outputs": [
    {
     "data": {
      "text/plain": [
       "(0.8900238338440586,\n",
       " 0.8931767337807607,\n",
       " 0.6598883572567783,\n",
       " 0.7312485304490948,\n",
       " 0.6508)"
      ]
     },
     "execution_count": 221,
     "metadata": {},
     "output_type": "execute_result"
    }
   ],
   "source": [
    "# Model2 has the highest precision of all the models when looking for dogs\n",
    "model1_precision, model2_precision, model3_precision, model4_precision, baseline_precision"
   ]
  },
  {
   "cell_type": "code",
   "execution_count": 222,
   "id": "577594f0",
   "metadata": {},
   "outputs": [],
   "source": [
    "# only cat pics\n",
    "subset = df[df.model1 == 'cat']\n",
    "model1_precision = (subset.model1 == subset.actual).mean()\n",
    "\n",
    "subset = df[df.model2 == 'cat']\n",
    "model2_precision = (subset.model2 == subset.actual).mean()\n",
    "\n",
    "subset = df[df.model3 == 'cat']\n",
    "model3_precision = (subset.model3 == subset.actual).mean()\n",
    "\n",
    "subset = df[df.model4 == 'cat']\n",
    "model4_precision = (subset.model4 == subset.actual).mean()\n",
    "\n",
    "subset = df[df.baseline == 'cat']\n",
    "baseline_precision = (subset.baseline == subset.actual).mean()"
   ]
  },
  {
   "cell_type": "code",
   "execution_count": 223,
   "id": "de640ae1",
   "metadata": {},
   "outputs": [
    {
     "data": {
      "text/plain": [
       "(0.6897721764420747,\n",
       " 0.4841220423412204,\n",
       " 0.358346709470305,\n",
       " 0.8072289156626506,\n",
       " nan)"
      ]
     },
     "execution_count": 223,
     "metadata": {},
     "output_type": "execute_result"
    }
   ],
   "source": [
    "# for only cat pics, model 4 has teh best rate\n",
    "model1_precision, model2_precision, model3_precision, model4_precision, baseline_precision"
   ]
  },
  {
   "cell_type": "code",
   "execution_count": 137,
   "id": "6c90aae8",
   "metadata": {},
   "outputs": [
    {
     "data": {
      "text/plain": [
       "0.8900238338440586"
      ]
     },
     "execution_count": 137,
     "metadata": {},
     "output_type": "execute_result"
    }
   ],
   "source": [
    "precision_score(df.actual, df.model1, pos_label='dog')"
   ]
  },
  {
   "cell_type": "code",
   "execution_count": 229,
   "id": "7b8fe4e8",
   "metadata": {},
   "outputs": [
    {
     "name": "stdout",
     "output_type": "stream",
     "text": [
      "---------------Actual Classification Report---------------\n",
      "                  precision    recall  f1-score   support\n",
      "\n",
      "         cat       1.00      1.00      1.00      1746\n",
      "         dog       1.00      1.00      1.00      3254\n",
      "\n",
      "    accuracy                           1.00      5000\n",
      "   macro avg       1.00      1.00      1.00      5000\n",
      "weighted avg       1.00      1.00      1.00      5000\n",
      "\n",
      "---------------Model1 Classification Report---------------\n",
      "                  precision    recall  f1-score   support\n",
      "\n",
      "         cat       0.69      0.82      0.75      1746\n",
      "         dog       0.89      0.80      0.84      3254\n",
      "\n",
      "    accuracy                           0.81      5000\n",
      "   macro avg       0.79      0.81      0.80      5000\n",
      "weighted avg       0.82      0.81      0.81      5000\n",
      "\n",
      "---------------Model2 Classification Report---------------\n",
      "                  precision    recall  f1-score   support\n",
      "\n",
      "         cat       0.48      0.89      0.63      1746\n",
      "         dog       0.89      0.49      0.63      3254\n",
      "\n",
      "    accuracy                           0.63      5000\n",
      "   macro avg       0.69      0.69      0.63      5000\n",
      "weighted avg       0.75      0.63      0.63      5000\n",
      "\n",
      "---------------Model3 Classification Report---------------\n",
      "                  precision    recall  f1-score   support\n",
      "\n",
      "         cat       0.36      0.51      0.42      1746\n",
      "         dog       0.66      0.51      0.57      3254\n",
      "\n",
      "    accuracy                           0.51      5000\n",
      "   macro avg       0.51      0.51      0.50      5000\n",
      "weighted avg       0.55      0.51      0.52      5000\n",
      "\n",
      "---------------Model4 Classification Report---------------\n",
      "                  precision    recall  f1-score   support\n",
      "\n",
      "         cat       0.81      0.35      0.48      1746\n",
      "         dog       0.73      0.96      0.83      3254\n",
      "\n",
      "    accuracy                           0.74      5000\n",
      "   macro avg       0.77      0.65      0.66      5000\n",
      "weighted avg       0.76      0.74      0.71      5000\n",
      "\n",
      "---------------Baseline Classification Report---------------\n",
      "                  precision    recall  f1-score   support\n",
      "\n",
      "         cat       0.00      0.00      0.00      1746\n",
      "         dog       0.65      1.00      0.79      3254\n",
      "\n",
      "    accuracy                           0.65      5000\n",
      "   macro avg       0.33      0.50      0.39      5000\n",
      "weighted avg       0.42      0.65      0.51      5000\n",
      "\n"
     ]
    },
    {
     "name": "stderr",
     "output_type": "stream",
     "text": [
      "/opt/homebrew/anaconda3/lib/python3.9/site-packages/sklearn/metrics/_classification.py:1327: UndefinedMetricWarning: Precision and F-score are ill-defined and being set to 0.0 in labels with no predicted samples. Use `zero_division` parameter to control this behavior.\n",
      "  _warn_prf(average, modifier, msg_start, len(result))\n",
      "/opt/homebrew/anaconda3/lib/python3.9/site-packages/sklearn/metrics/_classification.py:1327: UndefinedMetricWarning: Precision and F-score are ill-defined and being set to 0.0 in labels with no predicted samples. Use `zero_division` parameter to control this behavior.\n",
      "  _warn_prf(average, modifier, msg_start, len(result))\n",
      "/opt/homebrew/anaconda3/lib/python3.9/site-packages/sklearn/metrics/_classification.py:1327: UndefinedMetricWarning: Precision and F-score are ill-defined and being set to 0.0 in labels with no predicted samples. Use `zero_division` parameter to control this behavior.\n",
      "  _warn_prf(average, modifier, msg_start, len(result))\n"
     ]
    }
   ],
   "source": [
    "for col in df:\n",
    "    report = classification_report(df.actual, df[col])\n",
    "    print(f'''---------------{col.capitalize()} Classification Report---------------\n",
    "    {report}''')\n",
    "    "
   ]
  }
 ],
 "metadata": {
  "kernelspec": {
   "display_name": "Python 3 (ipykernel)",
   "language": "python",
   "name": "python3"
  },
  "language_info": {
   "codemirror_mode": {
    "name": "ipython",
    "version": 3
   },
   "file_extension": ".py",
   "mimetype": "text/x-python",
   "name": "python",
   "nbconvert_exporter": "python",
   "pygments_lexer": "ipython3",
   "version": "3.9.13"
  }
 },
 "nbformat": 4,
 "nbformat_minor": 5
}
